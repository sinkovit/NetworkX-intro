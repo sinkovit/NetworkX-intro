{
 "cells": [
  {
   "cell_type": "code",
   "execution_count": 14,
   "metadata": {},
   "outputs": [
    {
     "name": "stdout",
     "output_type": "stream",
     "text": [
      "2.5\n"
     ]
    }
   ],
   "source": [
    "import networkx as nx\n",
    "print(nx.__version__)"
   ]
  },
  {
   "cell_type": "markdown",
   "metadata": {},
   "source": [
    "NetworkX has the capability to read/write graphs in multiple formats. \n",
    "\n",
    "+ Adjacency list format is ideal for simple graphs that don't have any additional data associated with nodes or edges and has the added benefit of being easily human readable. A pair of nodes joined by an edge only needs to appear once in the file (e.g. do not need to repeat 'B A' or 'C A' if 'A B C' had already been listed.\n",
    "\n",
    "```\n",
    "node [optional list of neighbors]\n",
    "node [optional list of neighbors]\n",
    "...\n",
    "```\n",
    "\n",
    "+ Pajek format is useful if additional node data (node label, xy coordinates and node shape) and edge weights are needed.\n",
    "\n",
    "```\n",
    "*vertices number_of_vertices\n",
    "1 [optional label x y shape]\n",
    "2 [optional label x y shape]\n",
    "...\n",
    "*edges\n",
    "v1 v2 [optional weight]\n",
    "v3 v4 [optional weight]\n",
    "...\n",
    "```\n",
    "\n",
    "+ GraphML format is an XML representation that can capture more detailed information, including the graph attributes (directed, multigraph, etc.)\n",
    "\n",
    "\n",
    "\n"
   ]
  },
  {
   "cell_type": "code",
   "execution_count": 15,
   "metadata": {},
   "outputs": [],
   "source": [
    " # Create a graph\n",
    "G = nx.Graph()\n",
    "G.add_nodes_from(['A', 'B', 'C', 'D', 'E', 'F'])\n",
    "G.add_edges_from([('A', 'B'), ('A', 'C'), ('A', 'D'), ('A', 'E'), ('A', 'F'), ('B', 'E'), ('C', 'F'), ('E', 'F')])"
   ]
  },
  {
   "cell_type": "code",
   "execution_count": 16,
   "metadata": {},
   "outputs": [
    {
     "name": "stdout",
     "output_type": "stream",
     "text": [
      "#/Users/robertsinkovits/anaconda3/lib/python3.6/site-packages/ipykernel_launcher.py -f /Users/robertsinkovits/Library/Jupyter/runtime/kernel-0a8e825a-d267-4dcb-bd7b-8667b06c1063.json\n",
      "# GMT Sat Feb 20 04:41:54 2021\n",
      "# \n",
      "A B C D E F\n",
      "B E\n",
      "C F\n",
      "D\n",
      "E F\n",
      "F\n",
      "\n"
     ]
    }
   ],
   "source": [
    "nx.write_adjlist(G, \"graph_adjlist.txt\")\n",
    "with open('graph_adjlist.txt', 'r') as f:\n",
    "    print(f.read())"
   ]
  },
  {
   "cell_type": "code",
   "execution_count": 17,
   "metadata": {},
   "outputs": [
    {
     "name": "stdout",
     "output_type": "stream",
     "text": [
      "['A', 'B', 'C', 'D', 'E', 'F']\n",
      "[('A', 'B'), ('A', 'C'), ('A', 'D'), ('A', 'E'), ('A', 'F'), ('B', 'E'), ('C', 'F'), ('E', 'F')]\n"
     ]
    }
   ],
   "source": [
    "G2 = nx.read_adjlist(\"graph_adjlist.txt\")\n",
    "print(G2.nodes())\n",
    "print(G2.edges())"
   ]
  },
  {
   "cell_type": "code",
   "execution_count": 18,
   "metadata": {},
   "outputs": [
    {
     "name": "stdout",
     "output_type": "stream",
     "text": [
      "*vertices 6\n",
      "1 A 0.0 0.0 ellipse\n",
      "2 B 0.0 0.0 ellipse\n",
      "3 C 0.0 0.0 ellipse\n",
      "4 D 0.0 0.0 ellipse\n",
      "5 E 0.0 0.0 ellipse\n",
      "6 F 0.0 0.0 ellipse\n",
      "*edges\n",
      "1 2 1.0\n",
      "1 3 1.0\n",
      "1 4 1.0\n",
      "1 5 1.0\n",
      "1 6 1.0\n",
      "2 5 1.0\n",
      "3 6 1.0\n",
      "5 6 1.0\n",
      "\n"
     ]
    }
   ],
   "source": [
    "nx.write_pajek(G, \"graph_pajek.txt\")\n",
    "with open('graph_pajek.txt', 'r') as f:\n",
    "    print(f.read())"
   ]
  },
  {
   "cell_type": "code",
   "execution_count": 19,
   "metadata": {},
   "outputs": [
    {
     "name": "stdout",
     "output_type": "stream",
     "text": [
      "['A', 'B', 'C', 'D', 'E', 'F']\n",
      "[('A', 'B'), ('A', 'C'), ('A', 'D'), ('A', 'E'), ('A', 'F'), ('B', 'E'), ('C', 'F'), ('E', 'F')]\n"
     ]
    }
   ],
   "source": [
    "G2 = nx.read_pajek(\"graph_pajek.txt\")\n",
    "print(G2.nodes())\n",
    "print(G2.edges())"
   ]
  },
  {
   "cell_type": "code",
   "execution_count": 20,
   "metadata": {},
   "outputs": [
    {
     "name": "stdout",
     "output_type": "stream",
     "text": [
      "<?xml version='1.0' encoding='utf-8'?>\n",
      "<graphml xmlns=\"http://graphml.graphdrawing.org/xmlns\" xmlns:xsi=\"http://www.w3.org/2001/XMLSchema-instance\" xsi:schemaLocation=\"http://graphml.graphdrawing.org/xmlns http://graphml.graphdrawing.org/xmlns/1.0/graphml.xsd\"><graph edgedefault=\"undirected\"><node id=\"A\"/>\n",
      "<node id=\"B\"/>\n",
      "<node id=\"C\"/>\n",
      "<node id=\"D\"/>\n",
      "<node id=\"E\"/>\n",
      "<node id=\"F\"/>\n",
      "<edge source=\"A\" target=\"B\"/>\n",
      "<edge source=\"A\" target=\"C\"/>\n",
      "<edge source=\"A\" target=\"D\"/>\n",
      "<edge source=\"A\" target=\"E\"/>\n",
      "<edge source=\"A\" target=\"F\"/>\n",
      "<edge source=\"B\" target=\"E\"/>\n",
      "<edge source=\"C\" target=\"F\"/>\n",
      "<edge source=\"E\" target=\"F\"/>\n",
      "</graph></graphml>\n"
     ]
    }
   ],
   "source": [
    "nx.write_graphml(G, \"graph.graphml\")\n",
    "with open('graph.graphml', 'r') as f:\n",
    "    print(f.read())"
   ]
  },
  {
   "cell_type": "code",
   "execution_count": 21,
   "metadata": {},
   "outputs": [
    {
     "name": "stdout",
     "output_type": "stream",
     "text": [
      "['A', 'B', 'C', 'D', 'E', 'F']\n",
      "[('A', 'B'), ('A', 'C'), ('A', 'D'), ('A', 'E'), ('A', 'F'), ('B', 'E'), ('C', 'F'), ('E', 'F')]\n"
     ]
    }
   ],
   "source": [
    "G2 = nx.read_graphml(\"graph.graphml\")\n",
    "print(G2.nodes())\n",
    "print(G2.edges())"
   ]
  },
  {
   "cell_type": "code",
   "execution_count": null,
   "metadata": {},
   "outputs": [],
   "source": []
  }
 ],
 "metadata": {
  "kernelspec": {
   "display_name": "Python 3",
   "language": "python",
   "name": "python3"
  },
  "language_info": {
   "codemirror_mode": {
    "name": "ipython",
    "version": 3
   },
   "file_extension": ".py",
   "mimetype": "text/x-python",
   "name": "python",
   "nbconvert_exporter": "python",
   "pygments_lexer": "ipython3",
   "version": "3.6.4"
  }
 },
 "nbformat": 4,
 "nbformat_minor": 2
}
