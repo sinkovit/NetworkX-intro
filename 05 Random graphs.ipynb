{
 "cells": [
  {
   "cell_type": "code",
   "execution_count": 1,
   "metadata": {},
   "outputs": [
    {
     "name": "stdout",
     "output_type": "stream",
     "text": [
      "2.5\n"
     ]
    }
   ],
   "source": [
    "import networkx as nx\n",
    "print(nx.__version__)"
   ]
  },
  {
   "cell_type": "markdown",
   "metadata": {},
   "source": [
    "### Barabasi-Albert"
   ]
  },
  {
   "cell_type": "markdown",
   "metadata": {},
   "source": [
    "Returns a random graph according to the Barabási–Albert preferential\n",
    "attachment model. A graph of $n$ nodes is grown by attaching new nodes each with $m$\n",
    "edges that are preferentially attached to existing nodes with high degree."
   ]
  },
  {
   "cell_type": "code",
   "execution_count": 8,
   "metadata": {},
   "outputs": [
    {
     "name": "stdout",
     "output_type": "stream",
     "text": [
      "1000\n",
      "6951\n",
      "4\n",
      "CPU times: user 1.76 s, sys: 30.3 ms, total: 1.79 s\n",
      "Wall time: 2.17 s\n"
     ]
    }
   ],
   "source": [
    "%%time\n",
    "G1 = nx.barabasi_albert_graph(1000, 7)\n",
    "print(len(G1))\n",
    "print(G1.size())\n",
    "print(nx.diameter(G1))"
   ]
  },
  {
   "cell_type": "markdown",
   "metadata": {},
   "source": [
    "### Erdos-Renyi graph"
   ]
  },
  {
   "cell_type": "markdown",
   "metadata": {},
   "source": [
    "Returns a $G(n,p)$ random graph, also known as an Erdős-Rényi graph\n",
    "or a binomial graph. The $G(n,p)$ model chooses each of the possible edges with probability $p$."
   ]
  },
  {
   "cell_type": "code",
   "execution_count": 14,
   "metadata": {},
   "outputs": [
    {
     "name": "stdout",
     "output_type": "stream",
     "text": [
      "1000\n",
      "25008\n",
      "3\n",
      "CPU times: user 2.17 s, sys: 24 ms, total: 2.19 s\n",
      "Wall time: 2.29 s\n"
     ]
    }
   ],
   "source": [
    "%%time\n",
    "G2 = nx.erdos_renyi_graph(1000, 0.05)\n",
    "print(len(G2))\n",
    "print(G2.size())\n",
    "print(nx.diameter(G2))"
   ]
  },
  {
   "cell_type": "markdown",
   "metadata": {},
   "source": [
    "### Watts-Strogatz graph"
   ]
  },
  {
   "cell_type": "markdown",
   "metadata": {},
   "source": [
    "Generates a graph using the Watts-Strogatz model, which results in a *small world* graph (think six degrees of Kevin Bacon) where most nodes are not neighbors but number of hops between any pair of nodes tends to be small.\n",
    "\n",
    "$G(n,k,p)$, where $n$ is the number of nodes, each node is joined with $k$ neighbors into a ring and $p$ is probability of rewiring each edge."
   ]
  },
  {
   "cell_type": "code",
   "execution_count": 21,
   "metadata": {},
   "outputs": [
    {
     "name": "stdout",
     "output_type": "stream",
     "text": [
      "1000\n",
      "3000\n",
      "7\n",
      "CPU times: user 1.4 s, sys: 18.2 ms, total: 1.42 s\n",
      "Wall time: 1.55 s\n"
     ]
    }
   ],
   "source": [
    "%%time\n",
    "G3 = nx.connected_watts_strogatz_graph(1000, 6, 0.4)\n",
    "print(len(G3))\n",
    "print(G3.size())\n",
    "print(nx.diameter(G3))"
   ]
  }
 ],
 "metadata": {
  "kernelspec": {
   "display_name": "Python 3",
   "language": "python",
   "name": "python3"
  },
  "language_info": {
   "codemirror_mode": {
    "name": "ipython",
    "version": 3
   },
   "file_extension": ".py",
   "mimetype": "text/x-python",
   "name": "python",
   "nbconvert_exporter": "python",
   "pygments_lexer": "ipython3",
   "version": "3.8.5"
  }
 },
 "nbformat": 4,
 "nbformat_minor": 2
}
