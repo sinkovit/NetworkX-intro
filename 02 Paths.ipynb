{
 "cells": [
  {
   "cell_type": "markdown",
   "metadata": {},
   "source": [
    "# Paths"
   ]
  },
  {
   "cell_type": "code",
   "execution_count": 2,
   "metadata": {},
   "outputs": [
    {
     "name": "stdout",
     "output_type": "stream",
     "text": [
      "2.5\n"
     ]
    }
   ],
   "source": [
    "import networkx as nx\n",
    "print(nx.__version__)"
   ]
  },
  {
   "cell_type": "markdown",
   "metadata": {},
   "source": [
    "## Finding shortest paths and shortest path lengths"
   ]
  },
  {
   "cell_type": "code",
   "execution_count": 3,
   "metadata": {},
   "outputs": [],
   "source": [
    "G = nx.Graph()\n",
    "G.add_nodes_from(['A', 'B', 'C', 'D', 'E', 'F'])\n",
    "G.add_edges_from([('A','B'), ('B','C'), ('C','D'), ('D','F'), ('A','C'), ('A','E'), ('E','D')])"
   ]
  },
  {
   "cell_type": "code",
   "execution_count": 4,
   "metadata": {},
   "outputs": [
    {
     "data": {
      "text/plain": [
       "['A', 'C', 'D', 'F']"
      ]
     },
     "execution_count": 4,
     "metadata": {},
     "output_type": "execute_result"
    }
   ],
   "source": [
    "# Find a shortest path between pair of nodes\n",
    "nx.shortest_path(G, 'A', 'F')"
   ]
  },
  {
   "cell_type": "code",
   "execution_count": 5,
   "metadata": {},
   "outputs": [
    {
     "data": {
      "text/plain": [
       "[['A', 'C', 'D', 'F'], ['A', 'E', 'D', 'F']]"
      ]
     },
     "execution_count": 5,
     "metadata": {},
     "output_type": "execute_result"
    }
   ],
   "source": [
    "# Find all shortest paths between pair of nodes\n",
    "list(nx.all_shortest_paths(G, 'A', 'F'))"
   ]
  },
  {
   "cell_type": "code",
   "execution_count": 6,
   "metadata": {},
   "outputs": [
    {
     "data": {
      "text/plain": [
       "3"
      ]
     },
     "execution_count": 6,
     "metadata": {},
     "output_type": "execute_result"
    }
   ],
   "source": [
    "# Find shortest path length between pair of nodes\n",
    "nx.shortest_path_length(G, 'A', 'F')"
   ]
  },
  {
   "cell_type": "markdown",
   "metadata": {},
   "source": [
    "## Graph diameter"
   ]
  },
  {
   "cell_type": "markdown",
   "metadata": {},
   "source": [
    "Related to the concept of the shortest path between a pair of nodes is the graph diameter. This is defined as the greatest distance between any pair of nodes in the graph."
   ]
  },
  {
   "cell_type": "code",
   "execution_count": 8,
   "metadata": {},
   "outputs": [
    {
     "name": "stdout",
     "output_type": "stream",
     "text": [
      "4\n"
     ]
    }
   ],
   "source": [
    "G = nx.Graph()\n",
    "G.add_nodes_from(['A', 'B', 'C', 'D', 'E', 'F', 'G'])\n",
    "G.add_edges_from([('A','B'), ('B','C'), ('C','D'), ('D','F'), ('A','C'), ('A','E'), ('E','D'), ('F','G')])\n",
    "print(nx.diameter(G))"
   ]
  },
  {
   "cell_type": "markdown",
   "metadata": {},
   "source": [
    "## Finding Eulerian paths and cycles"
   ]
  },
  {
   "cell_type": "markdown",
   "metadata": {},
   "source": [
    "If all the nodes in a graph have even degree, then the graph contains an *Eulerian cycle* that traverses all edges exactly once and starts and ends at the same node.\n",
    "\n",
    "If a graph has exactly two vertices of odd degree, then the graph contains an *Eulerian path* that traverses all edges exactly once, starting at one of the odd-degree nodes and terminating at the other\n"
   ]
  },
  {
   "cell_type": "code",
   "execution_count": 21,
   "metadata": {},
   "outputs": [
    {
     "name": "stdout",
     "output_type": "stream",
     "text": [
      "Contains Eulerian cycle? False\n",
      "Contains Eulerian path?  False\n"
     ]
    }
   ],
   "source": [
    "G = nx.Graph()\n",
    "G.add_nodes_from(['A', 'B', 'C', 'D'])\n",
    "G.add_edges_from([('A','B'), ('A','C'), ('A','D'), ('B','C'), ('B','D'), ('C','D')])\n",
    "\n",
    "print('Contains Eulerian cycle?', nx.is_eulerian(G))\n",
    "print('Contains Eulerian path? ', nx.has_eulerian_path(G))"
   ]
  },
  {
   "cell_type": "code",
   "execution_count": 22,
   "metadata": {},
   "outputs": [
    {
     "name": "stdout",
     "output_type": "stream",
     "text": [
      "Contains Eulerian cycle? False\n",
      "Contains Eulerian path?  True\n",
      "[('B', 'D'), ('D', 'E'), ('E', 'C'), ('C', 'D'), ('D', 'A'), ('A', 'C'), ('C', 'B'), ('B', 'A')]\n"
     ]
    }
   ],
   "source": [
    "G = nx.Graph()\n",
    "G.add_nodes_from(['A', 'B', 'C', 'D', 'E'])\n",
    "G.add_edges_from([('A','B'), ('A','C'), ('A','D'), ('B','C'), ('B','D'), ('C','D')])\n",
    "G.add_edges_from([('C','E'), ('D','E')])\n",
    "\n",
    "print('Contains Eulerian cycle?', nx.is_eulerian(G))\n",
    "print('Contains Eulerian path? ', nx.has_eulerian_path(G))\n",
    "print(list(nx.eulerian_path(G)))"
   ]
  },
  {
   "cell_type": "code",
   "execution_count": 23,
   "metadata": {},
   "outputs": [
    {
     "name": "stdout",
     "output_type": "stream",
     "text": [
      "Contains Eulerian cycle? True\n",
      "Contains Eulerian path?  True\n",
      "[('A', 'F'), ('F', 'B'), ('B', 'D'), ('D', 'E'), ('E', 'C'), ('C', 'D'), ('D', 'A'), ('A', 'C'), ('C', 'B'), ('B', 'A')]\n"
     ]
    }
   ],
   "source": [
    "G = nx.Graph()\n",
    "G.add_nodes_from(['A', 'B', 'C', 'D', 'E', 'F'])\n",
    "G.add_edges_from([('A','B'), ('A','C'), ('A','D'), ('B','C'), ('B','D'), ('C','D')])\n",
    "G.add_edges_from([('C','E'), ('D','E'), ('F','A'), ('F','B')])\n",
    "\n",
    "print('Contains Eulerian cycle?', nx.is_eulerian(G))\n",
    "print('Contains Eulerian path? ', nx.has_eulerian_path(G))\n",
    "print(list(nx.eulerian_path(G)))"
   ]
  },
  {
   "cell_type": "code",
   "execution_count": null,
   "metadata": {},
   "outputs": [],
   "source": []
  }
 ],
 "metadata": {
  "kernelspec": {
   "display_name": "Python 3",
   "language": "python",
   "name": "python3"
  },
  "language_info": {
   "codemirror_mode": {
    "name": "ipython",
    "version": 3
   },
   "file_extension": ".py",
   "mimetype": "text/x-python",
   "name": "python",
   "nbconvert_exporter": "python",
   "pygments_lexer": "ipython3",
   "version": "3.8.5"
  }
 },
 "nbformat": 4,
 "nbformat_minor": 2
}
